{
 "cells": [
  {
   "cell_type": "markdown",
   "metadata": {},
   "source": [
    "# Task 1\n",
    "## Create a function that count the number of word in a sentence.\n",
    "Instruction:\n",
    "\n",
    "1.Create function called `number_of_word`.\n",
    "\n",
    "2.This function takes 1 input, `sentence`.\n",
    "\n",
    "3.Inside this function, you can utilize `.split()` method to split the sentence into list of word(s).\n",
    "\n",
    "4.Also, `len()` function to count the element inside a list.\n",
    "\n",
    "5.Return the number of word from the sentence.\n",
    "\n",
    "Example:\n",
    "\n",
    "        -Input: number_of_word(sentence = ’Hello World!’)\n",
    "\n",
    "        -Output: 2\n",
    "\n",
    "        -Input: number_of_word(sentence = ’Once Upon a Time in a faraway land’)\n",
    "        \n",
    "        -Output: 8\n"
   ]
  },
  {
   "cell_type": "code",
   "execution_count": 33,
   "metadata": {},
   "outputs": [
    {
     "name": "stdout",
     "output_type": "stream",
     "text": [
      "number_of_word (sentence :'Hello World!')\n",
      "output : 2\n",
      "number_of_word (sentence :'once upon a time in a faraway land!')\n",
      "output : 8\n"
     ]
    }
   ],
   "source": [
    "def number_of_word (sentence):\n",
    "    \"\"\"this function is to count the number of word in a sentence\"\"\"\n",
    "\n",
    "\n",
    "    hasil_split = sentence.split(\" \")\n",
    "    output = len(hasil_split)\n",
    "  \n",
    "      \n",
    "\n",
    "\n",
    "    print(f\"number_of_word (sentence :'{sentence}!')\")\n",
    "    print(f\"output : {output}\")\n",
    "\n",
    "    \n",
    "\n",
    "number_of_word (\"Hello World\")\n",
    "number_of_word(\"once upon a time in a faraway land\")\n",
    "\n",
    "    "
   ]
  },
  {
   "cell_type": "markdown",
   "metadata": {},
   "source": [
    "# task 2 Find Multiple\n",
    "\n",
    "Create a function that will get list of number(s) from a certain range that multiples of given number.\n",
    "\n",
    "Instruction:\n",
    "\n",
    "1.Create function called `find_multiples`.\n",
    "\n",
    "2.This function takes 3 input: `start_range`, `end_range`, and `multiple`.\n",
    "\n",
    "3.From every number within the given range, check if that number is the mutliples of `multiple`.\n",
    "\n",
    "4.Return list of the possible multiple number(s).\n",
    "\n",
    "Example:\n",
    "\n",
    "-Input: find_multiple(start_range= 1, end_range= 20, multiple= 5)\n",
    "\n",
    "-Output: [5, 10, 15, 20]\n",
    "\n",
    "-Input: find_multiple(start_range= 1, end_range= 50, multiple= 10)\n",
    "\n",
    "-Output: [10, 20, 30, 40, 50]5\n"
   ]
  },
  {
   "cell_type": "code",
   "execution_count": 31,
   "metadata": {},
   "outputs": [
    {
     "name": "stdout",
     "output_type": "stream",
     "text": [
      "[5, 10, 15]\n"
     ]
    }
   ],
   "source": [
    "def find_multiples(start_range, end_range, multiple):\n",
    "    \"\"\"this function is to get list of number(s) from certain range that multiples of given number\"\"\"\n",
    "\n",
    "    output = []\n",
    "    for i in range(start_range, end_range + 1 ):\n",
    "        if i % multiple == 0:\n",
    "            output.append(i)\n",
    "    print(output)\n",
    "\n",
    "\n",
    "find_multiples(1,20,5 )\n",
    "\n",
    "\n",
    "\n",
    "\n"
   ]
  },
  {
   "cell_type": "markdown",
   "metadata": {},
   "source": [
    "# task-3 \n",
    "Create a function that will convert student’s grade to GPA\n",
    "\n",
    "instruction:\n",
    "1.Create function called `Grade_Converter`.\n",
    "\n",
    "2.This function takes input: `convert_to` and n-paired of student(s) name with its respective score.\n",
    "\n",
    "3.Input argument for `convert_to` is either `letter_grade` or `gpa\n",
    "\n",
    "4.You can utilize **kwargs input argument to generate n-length paired of student(s) name with its respective score (Dictionary).\n",
    "\n",
    "5.This function will return dictionary of student’s name along with converted Letter Grade or GPA, depending on user input in `convert_to` parameter.\n",
    "\n",
    "example:\n",
    "\n",
    "-input: Grade_Converter(convert_to='gpa', Adam=62, Faiz=91)\n",
    "-Output: {'Adam': 2.5, 'Faiz': 4}\n",
    "\n"
   ]
  },
  {
   "cell_type": "code",
   "execution_count": 32,
   "metadata": {},
   "outputs": [],
   "source": [
    "def Grade_Converter(convert_to, **scoreboard):\n",
    "    \"\"\"this function is to convert student grade into GPA\"\"\"\n",
    "    grade = {\n",
    "        \"A\" : (85.00, 100.00, 4),\n",
    "        \"B\" : (84.99, 70.00, 3),\n",
    "        \"C\" : (60.00, 69.00, 2.5),\n",
    "        \"D\" : (50.00, 59.00, 2),\n",
    "        \"E\" : (40.00, 49.99, 1.5),\n",
    "        \"TOLOL\" : (0, 39.00, 1)\n",
    "    }\n",
    "\n",
    "    grade_hasil = {}\n",
    "\n",
    "    for student, score in scoreboard.items():\n",
    "        letter_grade = None\n",
    "        GPA = None\n",
    "\n",
    "        if convert_to == 'letter_grade':\n",
    "            grade_hasil[student] = letter_grade\n",
    "        elif convert_to == 'gpa':\n",
    "            grade_hasil[student] = round(gpa, 1)\n",
    "\n",
    "    return grade_hasil\n",
    "\n",
    "\n",
    "    \n",
    "\n",
    "\n",
    "\n"
   ]
  },
  {
   "cell_type": "code",
   "execution_count": 45,
   "metadata": {},
   "outputs": [
    {
     "data": {
      "text/plain": [
       "{'Albert': 'A', 'Dwi': 'B', 'Syahdan': 'D', 'Veronica': 'B'}"
      ]
     },
     "execution_count": 45,
     "metadata": {},
     "output_type": "execute_result"
    }
   ],
   "source": [
    "def Grade_Converter(convert_to, **student_dict):\n",
    "    \"\"\"this function is to convert student grade into GPA\"\"\"\n",
    "    grade_board = {\n",
    "        'A': (85, 100, 4.0),\n",
    "        'B': (70, 84.99, 3.0),\n",
    "        'C': (60, 69.99, 2.5),\n",
    "        'D': (50, 59.99, 2.0),\n",
    "        'E': (40, 49.99, 1.5),\n",
    "        'F': (0, 39.99, 1.0)\n",
    "    }\n",
    "\n",
    "    results = {}  \n",
    "\n",
    "\n",
    "    if convert_to not in ['letter_grade', 'GPA']:\n",
    "        return \"use letter_grade and GPA to define the convert\"\n",
    "\n",
    "\n",
    "    for student, score in student_dict.items():\n",
    "        letter_grade = None\n",
    "        GPA = None\n",
    "\n",
    "\n",
    "        for grade, (lower, upper, g) in grade_board.items():\n",
    "            if lower <= score <= upper:\n",
    "                letter_grade = grade\n",
    "                GPA = g\n",
    "                break\n",
    "\n",
    "\n",
    "        if convert_to == 'letter_grade':\n",
    "            results[student] = letter_grade\n",
    "        elif convert_to == 'GPA':\n",
    "            results[student] = round(GPA, 1)\n",
    "\n",
    "    return results\n",
    "\n",
    "\n",
    "Grade_Converter(convert_to='GPA', Adam=62, Faiz=91)\n",
    "\n",
    "Grade_Converter(convert_to='letter_grade', Albert=90, Dwi=82, Syahdan=58, Veronica=84)\n",
    "\n"
   ]
  },
  {
   "cell_type": "markdown",
   "metadata": {},
   "source": [
    "# Task 4 - Fibonacci Sequence\n",
    "\n",
    "create a function that will return the value of n-th fibonacci number.\n",
    "\n",
    "instructon:\n",
    "1.The function will take 1 input parameter, n, represents the asked number from our fibonacci sequence index.\n",
    "\n",
    "2.The fibonacci sequence will start with the value of 0 and 1.\n",
    "\n",
    "3.This function will return the n-th value from fibonacci sequence.\n",
    "\n",
    "\n",
    "\n"
   ]
  },
  {
   "cell_type": "code",
   "execution_count": 48,
   "metadata": {},
   "outputs": [
    {
     "data": {
      "text/plain": [
       "2"
      ]
     },
     "execution_count": 48,
     "metadata": {},
     "output_type": "execute_result"
    }
   ],
   "source": [
    "def Fibonacci_number(n):\n",
    "    \"\"\"this funciton will return the value of n-th fibonacci number\"\"\"\n",
    "    fibonacci = [0, 1]\n",
    "\n",
    "    for i in range(2, n +1):\n",
    "        next_value = fibonacci[i - 1] + fibonacci[i - 2]\n",
    "        fibonacci.append(next_value)\n",
    "    \n",
    "    return fibonacci[n]\n",
    "\n",
    "Fibonacci_number(3)\n"
   ]
  }
 ],
 "metadata": {
  "kernelspec": {
   "display_name": "Python 3",
   "language": "python",
   "name": "python3"
  },
  "language_info": {
   "codemirror_mode": {
    "name": "ipython",
    "version": 3
   },
   "file_extension": ".py",
   "mimetype": "text/x-python",
   "name": "python",
   "nbconvert_exporter": "python",
   "pygments_lexer": "ipython3",
   "version": "3.11.5"
  },
  "orig_nbformat": 4
 },
 "nbformat": 4,
 "nbformat_minor": 2
}
